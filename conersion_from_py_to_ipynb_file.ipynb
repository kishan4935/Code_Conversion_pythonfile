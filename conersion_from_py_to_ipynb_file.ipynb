{
  "nbformat": 4,
  "nbformat_minor": 0,
  "metadata": {
    "colab": {
      "provenance": [],
      "mount_file_id": "1k19ea5rOH92p_IoNWRhNXkCACJk__GrL",
      "authorship_tag": "ABX9TyN9B9DlJhBafrJWlyK+Rami",
      "include_colab_link": true
    },
    "kernelspec": {
      "name": "python3",
      "display_name": "Python 3"
    },
    "language_info": {
      "name": "python"
    }
  },
  "cells": [
    {
      "cell_type": "markdown",
      "metadata": {
        "id": "view-in-github",
        "colab_type": "text"
      },
      "source": [
        "<a href=\"https://colab.research.google.com/github/kishan4935/Code_Conversion_pythonfile/blob/main/conersion_from_py_to_ipynb_file.ipynb\" target=\"_parent\"><img src=\"https://colab.research.google.com/assets/colab-badge.svg\" alt=\"Open In Colab\"/></a>"
      ]
    },
    {
      "cell_type": "markdown",
      "source": [
        "Convert the file .py into .ipynb file\n"
      ],
      "metadata": {
        "id": "J0vFRuG7ZiZh"
      }
    },
    {
      "cell_type": "code",
      "source": [
        "import nbformat\n",
        "\n",
        "def convert_py_to_ipynb(py_file_path, ipynb_file_path):\n",
        "    with open(py_file_path, 'r') as py_file:\n",
        "        py_code = py_file.read()\n",
        "\n",
        "    nb = nbformat.v4.new_notebook()\n",
        "    nb.cells.append(nbformat.v4.new_code_cell(py_code))\n",
        "\n",
        "    with open(ipynb_file_path, 'w') as ipynb_file:\n",
        "        nbformat.write(nb, ipynb_file)\n",
        "\n",
        "# Replace these paths with your actual file paths\n",
        "py_file_path = '/content/drive/MyDrive/count_paper_number.py'## path which one have to be converted\n",
        "ipynb_file_path = '/content/drive/MyDrive/Colab Notebooks/Hello.ipynb'## path where we have to copy the converted code\n",
        "\n",
        "convert_py_to_ipynb(py_file_path, ipynb_file_path)\n"
      ],
      "metadata": {
        "id": "3WfCEtGJNAQ-"
      },
      "execution_count": 3,
      "outputs": []
    },
    {
      "cell_type": "markdown",
      "source": [
        "copy code into the converted file\n"
      ],
      "metadata": {
        "id": "O91Q4y__Zqhs"
      }
    },
    {
      "cell_type": "code",
      "source": [
        "import nbformat\n",
        "\n",
        "def extract_code_from_ipynb(ipynb_file_path):\n",
        "    with open(ipynb_file_path, 'r') as ipynb_file:\n",
        "        nb = nbformat.read(ipynb_file, as_version=nbformat.NO_CONVERT)\n",
        "\n",
        "    code_cells = []\n",
        "    for cell in nb.cells:\n",
        "        if cell.cell_type == 'code':\n",
        "            code_cells.append(cell.source)\n",
        "\n",
        "    return code_cells\n",
        "\n",
        "# Replace this path with the actual path to your .ipynb file\n",
        "ipynb_file_path = '/content/drive/MyDrive/Colab Notebooks/Hello.ipynb'\n",
        "\n",
        "code_cells = extract_code_from_ipynb(ipynb_file_path)\n",
        "for i, code in enumerate(code_cells, start=1):\n",
        "    print(f\"Code Cell {i}:\\n{code}\\n{'='*20}\")\n"
      ],
      "metadata": {
        "colab": {
          "base_uri": "https://localhost:8080/"
        },
        "id": "JUzYD3t7N-sQ",
        "outputId": "5dd98334-c84e-4da4-f304-ade591691855"
      },
      "execution_count": 4,
      "outputs": [
        {
          "output_type": "stream",
          "name": "stdout",
          "text": [
            "Code Cell 1:\n",
            "with open(\"README.md\", \"r\", encoding='utf-8') as f_in:\n",
            "    buf = f_in.readlines()\n",
            "    count = 0\n",
            "    sec_count = 0\n",
            "    sec_title = None\n",
            "    dummy_counter = 0\n",
            "    for line in buf:\n",
            "        # if \"**\" in line:\n",
            "        if line.startswith(\"#\"):\n",
            "            if sec_title is None:\n",
            "                sec_title = line.strip()\n",
            "                continue\n",
            "            print(sec_title, \"\\nsec paper number\", sec_count)\n",
            "            print(\"total paper number\", count)\n",
            "            sec_count = 0\n",
            "            sec_title = line.strip()\n",
            "        if line.startswith(\"1. **\"):\n",
            "            count += 1\n",
            "            sec_count += 1\n",
            "====================\n"
          ]
        }
      ]
    },
    {
      "cell_type": "markdown",
      "source": [
        "Predict the libraries according to the code inside the file.\n"
      ],
      "metadata": {
        "id": "Mo468pwYZTsr"
      }
    },
    {
      "cell_type": "code",
      "source": [
        "!pip install nbformat"
      ],
      "metadata": {
        "colab": {
          "base_uri": "https://localhost:8080/"
        },
        "id": "er0Y9pNVXLoF",
        "outputId": "ba08531d-38bb-48a4-a8bc-393583f36fd4"
      },
      "execution_count": 6,
      "outputs": [
        {
          "output_type": "stream",
          "name": "stdout",
          "text": [
            "Requirement already satisfied: nbformat in /usr/local/lib/python3.10/dist-packages (5.9.2)\n",
            "Requirement already satisfied: fastjsonschema in /usr/local/lib/python3.10/dist-packages (from nbformat) (2.18.0)\n",
            "Requirement already satisfied: jsonschema>=2.6 in /usr/local/lib/python3.10/dist-packages (from nbformat) (4.19.0)\n",
            "Requirement already satisfied: jupyter-core in /usr/local/lib/python3.10/dist-packages (from nbformat) (5.3.1)\n",
            "Requirement already satisfied: traitlets>=5.1 in /usr/local/lib/python3.10/dist-packages (from nbformat) (5.7.1)\n",
            "Requirement already satisfied: attrs>=22.2.0 in /usr/local/lib/python3.10/dist-packages (from jsonschema>=2.6->nbformat) (23.1.0)\n",
            "Requirement already satisfied: jsonschema-specifications>=2023.03.6 in /usr/local/lib/python3.10/dist-packages (from jsonschema>=2.6->nbformat) (2023.7.1)\n",
            "Requirement already satisfied: referencing>=0.28.4 in /usr/local/lib/python3.10/dist-packages (from jsonschema>=2.6->nbformat) (0.30.2)\n",
            "Requirement already satisfied: rpds-py>=0.7.1 in /usr/local/lib/python3.10/dist-packages (from jsonschema>=2.6->nbformat) (0.9.2)\n",
            "Requirement already satisfied: platformdirs>=2.5 in /usr/local/lib/python3.10/dist-packages (from jupyter-core->nbformat) (3.10.0)\n"
          ]
        }
      ]
    },
    {
      "cell_type": "code",
      "source": [
        "import subprocess\n",
        "import re\n",
        "import nbformat\n",
        "\n",
        "def extract_libraries_from_code(code):\n",
        "    libraries = set()\n",
        "    lines = code.split('\\n')\n",
        "    for line in lines:\n",
        "        if line.strip().startswith(\"import\"):\n",
        "            match = re.search(r'import\\s+([^\\s#]+)', line)\n",
        "            if match:\n",
        "                libraries.add(match.group(1))\n",
        "        elif line.strip().startswith(\"from\"):\n",
        "            match = re.search(r'from\\s+([^\\s#]+)', line)\n",
        "            if match:\n",
        "                libraries.add(match.group(1))\n",
        "    return libraries\n",
        "\n",
        "def install_libraries(libraries):\n",
        "    for library in libraries:\n",
        "        subprocess.call(['pip', 'install', library])\n",
        "\n",
        "# Replace this path with the actual path to your .ipynb file\n",
        "ipynb_file_path = '/content/drive/MyDrive/Colab Notebooks/Hello.ipynb'\n",
        "\n",
        "code_cells = extract_code_from_ipynb(ipynb_file_path)\n",
        "all_libraries = set()\n",
        "for code in code_cells:\n",
        "    libraries = extract_libraries_from_code(code)\n",
        "    all_libraries.update(libraries)\n",
        "\n",
        "install_libraries(all_libraries)\n"
      ],
      "metadata": {
        "id": "-47UTLpARrRK"
      },
      "execution_count": 7,
      "outputs": []
    }
  ]
}